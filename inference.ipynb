{
  "cells": [
    {
      "cell_type": "code",
      "execution_count": null,
      "metadata": {
        "id": "e--mU6qRIrVT"
      },
      "outputs": [],
      "source": [
        "# run inference\n",
        "CUDA_DEVICE=1\n",
        "START_SEED=42\n",
        "END_SEED=123\n",
        "DENOISING=0.2\n",
        "GUIDANCE=0\n",
        "ALPHA=0\n",
        "STEPS=50\n",
        "OUTPUT_PATH = \"/content/drive/MyDrive/riffusion/Training-Free-StyleID/results/audio\"\n",
        "SEED_IMAGE_PATH=\"/content/drive/MyDrive/riffusion/results/riffusion_seed_mask_images/accordian123/1\"\n",
        "MASK_IMAGE_PATH=\"/content/drive/MyDrive/riffusion/results/riffusion_seed_mask_images/violin123/1\"\n",
        "\n",
        "# Run curl command\n",
        "!CUDA_VISIBLE_DEVICES=\"$CUDA_DEVICE\" curl -X POST http://127.0.0.1:8081/run_inference/ -H \"Content-Type: application/json\" -d '{\"start\":{\"prompt\":\"\",\"seed\":'\"$START_SEED\"',\"denoising\":'\"$DENOISING\"',\"guidance\":'\"$GUIDANCE\"'},\"num_inference_steps\":'\"$STEPS\"',\"seed_image_path\":\"'\"$SEED_IMAGE_PATH\"'\",\"mask_image_path\":\"'\"$MASK_IMAGE_PATH\"'\",\"alpha\":'\"$ALPHA\"',\"end\":{\"prompt\":\"\",\"seed\":'\"$END_SEED\"',\"denoising\":'\"$DENOISING\"',\"guidance\":'\"$GUIDANCE\"', \"output_path\": '\"$OUTPUT_PATH\"'}}'"
      ]
    }
  ],
  "metadata": {
    "colab": {
      "provenance": []
    },
    "kernelspec": {
      "display_name": "Python 3",
      "name": "python3"
    },
    "language_info": {
      "name": "python"
    }
  },
  "nbformat": 4,
  "nbformat_minor": 0
}
